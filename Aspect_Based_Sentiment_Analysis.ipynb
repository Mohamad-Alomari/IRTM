{
 "cells": [
  {
   "cell_type": "code",
   "execution_count": 188,
   "metadata": {},
   "outputs": [],
   "source": [
    "import pandas as pd\n",
    "import numpy as np"
   ]
  },
  {
   "cell_type": "code",
   "execution_count": 189,
   "metadata": {},
   "outputs": [],
   "source": [
    "train_data=pd.read_csv('train_script.csv')\n",
    "test_data = pd.read_csv('test_script.csv')\n",
    "data = pd.concat([train_data, test_data]).reset_index()\n",
    "\n",
    "data= data.dropna().reset_index()\n",
    "data = data[['lines', 'character']]"
   ]
  },
  {
   "cell_type": "code",
   "execution_count": 190,
   "metadata": {},
   "outputs": [],
   "source": [
    "# Get the sentiment of the first sentence\n",
    "from vaderSentiment.vaderSentiment import SentimentIntensityAnalyzer\n",
    "from nltk.tokenize.treebank import TreebankWordDetokenizer\n",
    "\n",
    "from vaderSentiment.vaderSentiment import SentimentIntensityAnalyzer\n",
    "analyser = SentimentIntensityAnalyzer()"
   ]
  },
  {
   "cell_type": "code",
   "execution_count": 191,
   "metadata": {},
   "outputs": [],
   "source": [
    "def sentiment_analyzer_scores(sentence):\n",
    "    score = analyser.polarity_scores(sentence)\n",
    "    print(\"{}\".format(str(score)))"
   ]
  },
  {
   "cell_type": "code",
   "execution_count": 131,
   "metadata": {
    "scrolled": true
   },
   "outputs": [
    {
     "name": "stdout",
     "output_type": "stream",
     "text": [
      "1011\n",
      "2084\n",
      "6829\n",
      "7541\n",
      "8324\n",
      "9196\n",
      "11465\n",
      "12310\n",
      "13112\n",
      "13809\n",
      "14367\n",
      "15064\n",
      "15335\n",
      "16298\n",
      "16393\n",
      "16576\n",
      "16686\n",
      "17649\n",
      "17744\n",
      "17927\n",
      "18146\n",
      "18157\n",
      "19183\n",
      "19194\n",
      "22521\n",
      "23609\n",
      "24179\n",
      "24182\n",
      "24339\n",
      "24341\n",
      "24506\n",
      "24707\n",
      "24715\n",
      "25236\n",
      "25239\n",
      "25396\n",
      "25398\n",
      "25563\n",
      "25764\n",
      "25772\n",
      "26195\n",
      "27305\n",
      "31766\n",
      "32454\n",
      "34434\n",
      "35249\n",
      "36155\n",
      "36909\n",
      "40517\n",
      "41141\n",
      "42965\n",
      "43569\n",
      "46359\n",
      "46933\n",
      "50988\n",
      "51148\n",
      "51560\n",
      "51720\n",
      "52131\n",
      "52147\n",
      "52617\n",
      "52633\n",
      "54262\n",
      "54623\n",
      "57628\n",
      "58074\n",
      "59714\n",
      "59716\n",
      "59722\n",
      "59981\n",
      "59983\n",
      "59989\n",
      "60263\n",
      "60581\n",
      "62239\n",
      "62628\n",
      "64913\n",
      "64914\n",
      "65462\n",
      "66992\n"
     ]
    }
   ],
   "source": [
    "for i in range(len(data)):\n",
    "    sentence = data.lines[i]\n",
    "    if 'attack' in sentence:\n",
    "        print(i)\n",
    "        "
   ]
  },
  {
   "cell_type": "code",
   "execution_count": 216,
   "metadata": {},
   "outputs": [],
   "source": [
    "i = 15131\n",
    "sentence = data.lines[i]"
   ]
  },
  {
   "cell_type": "code",
   "execution_count": 217,
   "metadata": {},
   "outputs": [
    {
     "data": {
      "text/plain": [
       "'hulk agree to second date with puny humans'"
      ]
     },
     "execution_count": 217,
     "metadata": {},
     "output_type": "execute_result"
    }
   ],
   "source": [
    "sentence"
   ]
  },
  {
   "cell_type": "code",
   "execution_count": 218,
   "metadata": {},
   "outputs": [
    {
     "data": {
      "text/plain": [
       "'Sheldon'"
      ]
     },
     "execution_count": 218,
     "metadata": {},
     "output_type": "execute_result"
    }
   ],
   "source": [
    "data.character[i]"
   ]
  },
  {
   "cell_type": "code",
   "execution_count": 219,
   "metadata": {},
   "outputs": [
    {
     "name": "stdout",
     "output_type": "stream",
     "text": [
      "{'neg': 0.0, 'neu': 0.737, 'pos': 0.263, 'compound': 0.3612}\n"
     ]
    }
   ],
   "source": [
    "sentiment_analyzer_scores(sentence)"
   ]
  },
  {
   "cell_type": "code",
   "execution_count": 186,
   "metadata": {},
   "outputs": [],
   "source": [
    "# Aspect based\n",
    "import spacy\n",
    "import en_core_web_sm\n",
    "nlp = en_core_web_sm.load()"
   ]
  },
  {
   "cell_type": "code",
   "execution_count": 187,
   "metadata": {},
   "outputs": [
    {
     "data": {
      "text/html": [
       "<svg xmlns=\"http://www.w3.org/2000/svg\" xmlns:xlink=\"http://www.w3.org/1999/xlink\" xml:lang=\"en\" id=\"70f68bb2a9cf477d955c6c30ceabdac5-0\" class=\"displacy\" width=\"575\" height=\"224.5\" direction=\"ltr\" style=\"max-width: none; height: 224.5px; color: #000000; background: #ffffff; font-family: Arial; direction: ltr\">\n",
       "<text class=\"displacy-token\" fill=\"currentColor\" text-anchor=\"middle\" y=\"134.5\">\n",
       "    <tspan class=\"displacy-word\" fill=\"currentColor\" x=\"50\">i</tspan>\n",
       "    <tspan class=\"displacy-tag\" dy=\"2em\" fill=\"currentColor\" x=\"50\">PRON</tspan>\n",
       "</text>\n",
       "\n",
       "<text class=\"displacy-token\" fill=\"currentColor\" text-anchor=\"middle\" y=\"134.5\">\n",
       "    <tspan class=\"displacy-word\" fill=\"currentColor\" x=\"225\">believe</tspan>\n",
       "    <tspan class=\"displacy-tag\" dy=\"2em\" fill=\"currentColor\" x=\"225\">VERB</tspan>\n",
       "</text>\n",
       "\n",
       "<text class=\"displacy-token\" fill=\"currentColor\" text-anchor=\"middle\" y=\"134.5\">\n",
       "    <tspan class=\"displacy-word\" fill=\"currentColor\" x=\"400\">you</tspan>\n",
       "    <tspan class=\"displacy-tag\" dy=\"2em\" fill=\"currentColor\" x=\"400\">PRON</tspan>\n",
       "</text>\n",
       "\n",
       "<g class=\"displacy-arrow\">\n",
       "    <path class=\"displacy-arc\" id=\"arrow-70f68bb2a9cf477d955c6c30ceabdac5-0-0\" stroke-width=\"2px\" d=\"M70,89.5 C70,2.0 225.0,2.0 225.0,89.5\" fill=\"none\" stroke=\"currentColor\"/>\n",
       "    <text dy=\"1.25em\" style=\"font-size: 0.8em; letter-spacing: 1px\">\n",
       "        <textPath xlink:href=\"#arrow-70f68bb2a9cf477d955c6c30ceabdac5-0-0\" class=\"displacy-label\" startOffset=\"50%\" side=\"left\" fill=\"currentColor\" text-anchor=\"middle\">nsubj</textPath>\n",
       "    </text>\n",
       "    <path class=\"displacy-arrowhead\" d=\"M70,91.5 L62,79.5 78,79.5\" fill=\"currentColor\"/>\n",
       "</g>\n",
       "\n",
       "<g class=\"displacy-arrow\">\n",
       "    <path class=\"displacy-arc\" id=\"arrow-70f68bb2a9cf477d955c6c30ceabdac5-0-1\" stroke-width=\"2px\" d=\"M245,89.5 C245,2.0 400.0,2.0 400.0,89.5\" fill=\"none\" stroke=\"currentColor\"/>\n",
       "    <text dy=\"1.25em\" style=\"font-size: 0.8em; letter-spacing: 1px\">\n",
       "        <textPath xlink:href=\"#arrow-70f68bb2a9cf477d955c6c30ceabdac5-0-1\" class=\"displacy-label\" startOffset=\"50%\" side=\"left\" fill=\"currentColor\" text-anchor=\"middle\">dobj</textPath>\n",
       "    </text>\n",
       "    <path class=\"displacy-arrowhead\" d=\"M400.0,91.5 L408.0,79.5 392.0,79.5\" fill=\"currentColor\"/>\n",
       "</g>\n",
       "</svg>"
      ],
      "text/plain": [
       "<IPython.core.display.HTML object>"
      ]
     },
     "metadata": {},
     "output_type": "display_data"
    }
   ],
   "source": [
    "doc = nlp(sentence)\n",
    "spacy.displacy.render(doc,style='dep',jupyter=True)"
   ]
  },
  {
   "cell_type": "code",
   "execution_count": 105,
   "metadata": {},
   "outputs": [
    {
     "name": "stdout",
     "output_type": "stream",
     "text": [
      "betraying you\n"
     ]
    }
   ],
   "source": [
    "reason = []\n",
    "for token in doc:\n",
    "    if token.pos_ is 'NOUN':\n",
    "        for j in token.lefts:\n",
    "            if j.dep_ == 'compound':\n",
    "                print(j,token)\n",
    "            if j.dep_ == 'amod':\n",
    "                print (j,token)\n",
    "            if j.dep_ =='poss':\n",
    "                print(j,token)\n",
    "    if token.pos_ is 'ADJ':\n",
    "        for j in token.lefts:\n",
    "            if j.dep_ == 'advmod':\n",
    "                print (j, token)\n",
    "    \n",
    "\n",
    "    if token.pos_ is 'VERB':\n",
    "        for j in token.rights:\n",
    "            if j.dep_ == 'dobj' and j.pos_ is 'PRON':\n",
    "                print (token,j)"
   ]
  },
  {
   "cell_type": "code",
   "execution_count": null,
   "metadata": {},
   "outputs": [],
   "source": []
  }
 ],
 "metadata": {
  "kernelspec": {
   "display_name": "Python 3",
   "language": "python",
   "name": "python3"
  },
  "language_info": {
   "codemirror_mode": {
    "name": "ipython",
    "version": 3
   },
   "file_extension": ".py",
   "mimetype": "text/x-python",
   "name": "python",
   "nbconvert_exporter": "python",
   "pygments_lexer": "ipython3",
   "version": "3.7.4"
  }
 },
 "nbformat": 4,
 "nbformat_minor": 4
}
