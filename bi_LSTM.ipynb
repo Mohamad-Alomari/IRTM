{
  "nbformat": 4,
  "nbformat_minor": 0,
  "metadata": {
    "colab": {
      "name": "bi_LSTM.ipynb",
      "provenance": [],
      "collapsed_sections": []
    },
    "kernelspec": {
      "name": "python3",
      "display_name": "Python 3"
    },
    "accelerator": "GPU"
  },
  "cells": [
    {
      "cell_type": "code",
      "metadata": {
        "id": "rBmB-ygOTUNH",
        "colab_type": "code",
        "colab": {}
      },
      "source": [
        "# Pachages needed\n",
        "import numpy as np # linear algebra\n",
        "import pandas as pd # data processing, CSV file I/O (e.g. pd.read_csv)\n",
        "import pickle\n",
        "\n",
        "from sklearn.feature_extraction.text import CountVectorizer\n",
        "from keras.preprocessing.text import Tokenizer\n",
        "from keras.preprocessing.sequence import pad_sequences\n",
        "from keras.models import Sequential, load_model\n",
        "from keras.layers import Dense, Embedding, LSTM, SpatialDropout1D, Bidirectional, Dropout, MaxPooling1D, Flatten, MaxPooling2D\n",
        "from sklearn.model_selection import train_test_split\n",
        "from keras.utils.np_utils import to_categorical\n",
        "from keras.layers.normalization import BatchNormalization\n",
        "from keras.callbacks import EarlyStopping\n",
        "\n",
        "import re, re, csv, math, codecs\n",
        "import matplotlib.pyplot as plt\n",
        "%matplotlib inline\n",
        "\n",
        "! pip install pycm\n",
        "from pycm import *\n",
        "from sklearn.metrics import confusion_matrix,classification_report\n",
        "\n"
      ],
      "execution_count": 0,
      "outputs": []
    },
    {
      "cell_type": "code",
      "metadata": {
        "id": "647iNEJ3Tjgo",
        "colab_type": "code",
        "colab": {}
      },
      "source": [
        "import pandas as pd\n",
        "test_data=pd.read_csv('gdrive/My Drive/test_script3.csv')\n",
        "train_data=pd.read_csv('gdrive/My Drive/train_script3.csv')"
      ],
      "execution_count": 0,
      "outputs": []
    },
    {
      "cell_type": "code",
      "metadata": {
        "id": "Lj7CCi0STjjH",
        "colab_type": "code",
        "colab": {}
      },
      "source": [
        "train_data = train_data[['lines', 'character']]\n",
        "test_data = test_data[['lines', 'character']]"
      ],
      "execution_count": 0,
      "outputs": []
    },
    {
      "cell_type": "code",
      "metadata": {
        "id": "MsPr7BcknNlF",
        "colab_type": "code",
        "colab": {}
      },
      "source": [
        "train_data.lines = train_data.lines.astype(str)\n",
        "test_data.lines = test_data.lines.astype(str)"
      ],
      "execution_count": 0,
      "outputs": []
    },
    {
      "cell_type": "code",
      "metadata": {
        "id": "9p6zQ--jCd_O",
        "colab_type": "code",
        "colab": {}
      },
      "source": [
        "all_data = pd.concat([train_data, test_data]).reset_index()"
      ],
      "execution_count": 0,
      "outputs": []
    },
    {
      "cell_type": "code",
      "metadata": {
        "id": "SRIOwgqJtxZC",
        "colab_type": "code",
        "colab": {}
      },
      "source": [
        "maxWords = 100000\n",
        "tokenizer = Tokenizer(num_words=maxWords, split=' ')\n",
        "tokenizer.fit_on_texts(all_data['lines'].values)"
      ],
      "execution_count": 0,
      "outputs": []
    },
    {
      "cell_type": "code",
      "metadata": {
        "id": "GeVzJQqNTjlr",
        "colab_type": "code",
        "outputId": "2eb22db9-cf96-4784-8a59-cce2bb633be6",
        "colab": {
          "base_uri": "https://localhost:8080/",
          "height": 136
        }
      },
      "source": [
        "from sklearn import preprocessing\n",
        "le = preprocessing.LabelEncoder()\n",
        "\n",
        "le.fit(train_data['character'])\n",
        "le.classes_\n",
        "labels_train = le.transform(train_data['character']) \n",
        "\n",
        "\n",
        "zero = list(le.inverse_transform([0]))\n",
        "one = list(le.inverse_transform([1]))\n",
        "two = list(le.inverse_transform([2]))\n",
        "three = list(le.inverse_transform([3]))\n",
        "four = list(le.inverse_transform([4]))\n",
        "five = list(le.inverse_transform([5]))\n",
        "six = list(le.inverse_transform([6]))\n",
        "\n",
        "print(zero, 'is encoded as 0')\n",
        "print(one, 'is encoded as 1')\n",
        "print(two, 'is encoded as 2')\n",
        "print(three, 'is encoded as 3')\n",
        "print(four, 'is encoded as 4')\n",
        "print(five, 'is encoded as 5')\n",
        "print(six, 'is encoded as 6')"
      ],
      "execution_count": 0,
      "outputs": [
        {
          "output_type": "stream",
          "text": [
            "['Amy'] is encoded as 0\n",
            "['Bernadette'] is encoded as 1\n",
            "['Howard'] is encoded as 2\n",
            "['Leonard'] is encoded as 3\n",
            "['Penny'] is encoded as 4\n",
            "['Raj'] is encoded as 5\n",
            "['Sheldon'] is encoded as 6\n"
          ],
          "name": "stdout"
        }
      ]
    },
    {
      "cell_type": "code",
      "metadata": {
        "id": "kSd18qXqTjoM",
        "colab_type": "code",
        "outputId": "8f7873fe-66d0-45c5-fa9d-ea8c480c9ab8",
        "colab": {
          "base_uri": "https://localhost:8080/",
          "height": 136
        }
      },
      "source": [
        "le.fit(test_data['character'])\n",
        "le.classes_\n",
        "labels_test = le.transform(test_data['character']) \n",
        "\n",
        "\n",
        "zero = list(le.inverse_transform([0]))\n",
        "one = list(le.inverse_transform([1]))\n",
        "two = list(le.inverse_transform([2]))\n",
        "three = list(le.inverse_transform([3]))\n",
        "four = list(le.inverse_transform([4]))\n",
        "five = list(le.inverse_transform([5]))\n",
        "six = list(le.inverse_transform([6]))\n",
        "\n",
        "print(zero, 'is encoded as 0')\n",
        "print(one, 'is encoded as 1')\n",
        "print(two, 'is encoded as 2')\n",
        "print(three, 'is encoded as 3')\n",
        "print(four, 'is encoded as 4')\n",
        "print(five, 'is encoded as 5')\n",
        "print(six, 'is encoded as 6')"
      ],
      "execution_count": 0,
      "outputs": [
        {
          "output_type": "stream",
          "text": [
            "['Amy'] is encoded as 0\n",
            "['Bernadette'] is encoded as 1\n",
            "['Howard'] is encoded as 2\n",
            "['Leonard'] is encoded as 3\n",
            "['Penny'] is encoded as 4\n",
            "['Raj'] is encoded as 5\n",
            "['Sheldon'] is encoded as 6\n"
          ],
          "name": "stdout"
        }
      ]
    },
    {
      "cell_type": "code",
      "metadata": {
        "id": "cGPGse5QTjqn",
        "colab_type": "code",
        "colab": {}
      },
      "source": [
        "train_data['character'] = labels_train\n",
        "test_data['character'] = labels_test"
      ],
      "execution_count": 0,
      "outputs": []
    },
    {
      "cell_type": "code",
      "metadata": {
        "id": "xrNiwFQqTvlh",
        "colab_type": "code",
        "colab": {}
      },
      "source": [
        "data = [train_data, test_data]\n",
        "all_data = pd.concat(data).reset_index()\n",
        "all_data = all_data[['lines', 'character']]"
      ],
      "execution_count": 0,
      "outputs": []
    },
    {
      "cell_type": "code",
      "metadata": {
        "id": "LaYYu-c-Tvn7",
        "colab_type": "code",
        "colab": {}
      },
      "source": [
        "maxWords = 100000\n",
        "tokenizer = Tokenizer(num_words=maxWords, split=' ')\n",
        "tokenizer.fit_on_texts(all_data['lines'].values)\n",
        "word_index = tokenizer.word_index\n",
        "X = tokenizer.texts_to_sequences(all_data['lines'].values)\n",
        "X = pad_sequences(X)\n",
        "Y = all_data['character']\n",
        "lstm_out = 196"
      ],
      "execution_count": 0,
      "outputs": []
    },
    {
      "cell_type": "code",
      "metadata": {
        "id": "mG_VGqrcTvqF",
        "colab_type": "code",
        "outputId": "52d46491-b64d-448a-c467-e8d2798c85af",
        "colab": {
          "base_uri": "https://localhost:8080/",
          "height": 34
        }
      },
      "source": [
        "len(X[2])"
      ],
      "execution_count": 0,
      "outputs": [
        {
          "output_type": "execute_result",
          "data": {
            "text/plain": [
              "1516"
            ]
          },
          "metadata": {
            "tags": []
          },
          "execution_count": 14
        }
      ]
    },
    {
      "cell_type": "code",
      "metadata": {
        "id": "X1Nubx3TTvsp",
        "colab_type": "code",
        "colab": {}
      },
      "source": [
        "from keras.regularizers import l2\n",
        "X_train, X_val, Y_train, Y_val  = train_test_split(X[0:1271], Y[0:1271], test_size=0.2, random_state=42)"
      ],
      "execution_count": 0,
      "outputs": []
    },
    {
      "cell_type": "code",
      "metadata": {
        "id": "-6sb0Hs1T2Iz",
        "colab_type": "code",
        "colab": {}
      },
      "source": [
        "X_test = X[1271:]\n",
        "Y_test = Y[1271:]"
      ],
      "execution_count": 0,
      "outputs": []
    },
    {
      "cell_type": "code",
      "metadata": {
        "id": "hUja9d5_hi_B",
        "colab_type": "code",
        "outputId": "108453f5-bf96-4997-b414-b330f19e3626",
        "colab": {
          "base_uri": "https://localhost:8080/",
          "height": 408
        }
      },
      "source": [
        "model = Sequential()\n",
        "model.add(Embedding(maxWords, 100, input_length = 1516))\n",
        "model.add(SpatialDropout1D(0.2))\n",
        "model.add(Bidirectional(LSTM(64, kernel_regularizer=l2(0.01), dropout=0.3, recurrent_dropout=0.2, return_sequences=True))) \n",
        "model.add(BatchNormalization(momentum=0.99))\n",
        "model.add(MaxPooling1D(pool_size=1)) \n",
        "model.add(Flatten())\n",
        "model.add(Dense(7,activation='softmax'))\n",
        "model.compile(loss = 'sparse_categorical_crossentropy', optimizer='adam',metrics = ['accuracy'])\n",
        "print(model.summary())"
      ],
      "execution_count": 0,
      "outputs": [
        {
          "output_type": "stream",
          "text": [
            "Model: \"sequential_1\"\n",
            "_________________________________________________________________\n",
            "Layer (type)                 Output Shape              Param #   \n",
            "=================================================================\n",
            "embedding_1 (Embedding)      (None, 1516, 100)         10000000  \n",
            "_________________________________________________________________\n",
            "spatial_dropout1d_1 (Spatial (None, 1516, 100)         0         \n",
            "_________________________________________________________________\n",
            "bidirectional_1 (Bidirection (None, 1516, 128)         84480     \n",
            "_________________________________________________________________\n",
            "batch_normalization_1 (Batch (None, 1516, 128)         512       \n",
            "_________________________________________________________________\n",
            "max_pooling1d_1 (MaxPooling1 (None, 1516, 128)         0         \n",
            "_________________________________________________________________\n",
            "flatten_1 (Flatten)          (None, 194048)            0         \n",
            "_________________________________________________________________\n",
            "dense_1 (Dense)              (None, 7)                 1358343   \n",
            "=================================================================\n",
            "Total params: 11,443,335\n",
            "Trainable params: 11,443,079\n",
            "Non-trainable params: 256\n",
            "_________________________________________________________________\n",
            "None\n"
          ],
          "name": "stdout"
        }
      ]
    },
    {
      "cell_type": "code",
      "metadata": {
        "id": "CPQwJYT2T2QA",
        "colab_type": "code",
        "colab": {}
      },
      "source": [
        "from keras.callbacks import EarlyStopping, ModelCheckpoint\n",
        "earlyStop=EarlyStopping(monitor=\"val_loss\",verbose=2,mode='auto',patience=20)\n",
        "checkpointer = ModelCheckpoint(filepath='gdrive/My Drive/weights/biLSTM-{epoch:02d}.hdf5', monitor='val_acc', verbose=1, save_best_only=False, mode='max')"
      ],
      "execution_count": 0,
      "outputs": []
    },
    {
      "cell_type": "code",
      "metadata": {
        "id": "3BGVB7YsT2Sb",
        "colab_type": "code",
        "colab": {}
      },
      "source": [
        "batch_size = 100"
      ],
      "execution_count": 0,
      "outputs": []
    },
    {
      "cell_type": "code",
      "metadata": {
        "id": "Yj9dfFA1Tvu4",
        "colab_type": "code",
        "colab": {}
      },
      "source": [
        "history = model.fit(X_train, Y_train, epochs = 200, \n",
        "                  batch_size = batch_size,\n",
        "                    verbose = 1, shuffle=True, \n",
        "                    validation_data=(X_val, Y_val),\n",
        "                   callbacks=[earlyStop,checkpointer])"
      ],
      "execution_count": 0,
      "outputs": []
    },
    {
      "cell_type": "code",
      "metadata": {
        "id": "LcrhX-JOUP9F",
        "colab_type": "code",
        "outputId": "c1eb114a-3327-4d23-e84f-6834e9b60069",
        "colab": {
          "base_uri": "https://localhost:8080/",
          "height": 71
        }
      },
      "source": [
        "from keras.models import load_model"
      ],
      "execution_count": 0,
      "outputs": [
        {
          "output_type": "stream",
          "text": [
            "/usr/local/lib/python3.6/dist-packages/tensorflow/python/framework/indexed_slices.py:434: UserWarning: Converting sparse IndexedSlices to a dense Tensor of unknown shape. This may consume a large amount of memory.\n",
            "  \"Converting sparse IndexedSlices to a dense Tensor of unknown shape. \"\n"
          ],
          "name": "stderr"
        }
      ]
    },
    {
      "cell_type": "code",
      "metadata": {
        "id": "lKlwO3GlUP_l",
        "colab_type": "code",
        "outputId": "95696a49-4fb5-4410-dc34-2997444ea14c",
        "colab": {
          "base_uri": "https://localhost:8080/",
          "height": 320
        }
      },
      "source": [
        "\n",
        "model1 = load_model('gdrive/My Drive/weights/biLSTM-58.hdf5')\n",
        "y_pred = model1.predict_classes(X_test)\n",
        "\n",
        "y_pred = y_pred.tolist()\n",
        "y_test = Y_test.tolist()\n",
        "\n",
        "#! pip install pycm\n",
        "#from pycm import *\n",
        "cm = ConfusionMatrix(y_pred,y_test )\n",
        "\n",
        "confusion_matrix = pd.DataFrame(data=cm.table)\n",
        "confusion_matrix.columns=['Amy', 'Bernadette', 'Howard', 'Leonard', 'Penny', 'Raj','Sheldon']\n",
        "confusion_matrix.index = ['Amy', 'Bernadette', 'Howard', 'Leonard', 'Penny', 'Raj', 'Sheldon']\n",
        "confusion_matrix\n"
      ],
      "execution_count": 0,
      "outputs": [
        {
          "output_type": "stream",
          "text": [
            "/usr/local/lib/python3.6/dist-packages/tensorflow/python/framework/indexed_slices.py:434: UserWarning: Converting sparse IndexedSlices to a dense Tensor of unknown shape. This may consume a large amount of memory.\n",
            "  \"Converting sparse IndexedSlices to a dense Tensor of unknown shape. \"\n"
          ],
          "name": "stderr"
        },
        {
          "output_type": "execute_result",
          "data": {
            "text/html": [
              "<div>\n",
              "<style scoped>\n",
              "    .dataframe tbody tr th:only-of-type {\n",
              "        vertical-align: middle;\n",
              "    }\n",
              "\n",
              "    .dataframe tbody tr th {\n",
              "        vertical-align: top;\n",
              "    }\n",
              "\n",
              "    .dataframe thead th {\n",
              "        text-align: right;\n",
              "    }\n",
              "</style>\n",
              "<table border=\"1\" class=\"dataframe\">\n",
              "  <thead>\n",
              "    <tr style=\"text-align: right;\">\n",
              "      <th></th>\n",
              "      <th>Amy</th>\n",
              "      <th>Bernadette</th>\n",
              "      <th>Howard</th>\n",
              "      <th>Leonard</th>\n",
              "      <th>Penny</th>\n",
              "      <th>Raj</th>\n",
              "      <th>Sheldon</th>\n",
              "    </tr>\n",
              "  </thead>\n",
              "  <tbody>\n",
              "    <tr>\n",
              "      <th>Amy</th>\n",
              "      <td>8</td>\n",
              "      <td>6</td>\n",
              "      <td>2</td>\n",
              "      <td>2</td>\n",
              "      <td>4</td>\n",
              "      <td>2</td>\n",
              "      <td>0</td>\n",
              "    </tr>\n",
              "    <tr>\n",
              "      <th>Bernadette</th>\n",
              "      <td>3</td>\n",
              "      <td>10</td>\n",
              "      <td>6</td>\n",
              "      <td>1</td>\n",
              "      <td>1</td>\n",
              "      <td>3</td>\n",
              "      <td>0</td>\n",
              "    </tr>\n",
              "    <tr>\n",
              "      <th>Howard</th>\n",
              "      <td>3</td>\n",
              "      <td>5</td>\n",
              "      <td>10</td>\n",
              "      <td>2</td>\n",
              "      <td>1</td>\n",
              "      <td>3</td>\n",
              "      <td>0</td>\n",
              "    </tr>\n",
              "    <tr>\n",
              "      <th>Leonard</th>\n",
              "      <td>2</td>\n",
              "      <td>3</td>\n",
              "      <td>6</td>\n",
              "      <td>3</td>\n",
              "      <td>7</td>\n",
              "      <td>3</td>\n",
              "      <td>0</td>\n",
              "    </tr>\n",
              "    <tr>\n",
              "      <th>Penny</th>\n",
              "      <td>0</td>\n",
              "      <td>3</td>\n",
              "      <td>2</td>\n",
              "      <td>5</td>\n",
              "      <td>13</td>\n",
              "      <td>1</td>\n",
              "      <td>0</td>\n",
              "    </tr>\n",
              "    <tr>\n",
              "      <th>Raj</th>\n",
              "      <td>4</td>\n",
              "      <td>1</td>\n",
              "      <td>9</td>\n",
              "      <td>4</td>\n",
              "      <td>1</td>\n",
              "      <td>4</td>\n",
              "      <td>1</td>\n",
              "    </tr>\n",
              "    <tr>\n",
              "      <th>Sheldon</th>\n",
              "      <td>1</td>\n",
              "      <td>0</td>\n",
              "      <td>2</td>\n",
              "      <td>2</td>\n",
              "      <td>1</td>\n",
              "      <td>0</td>\n",
              "      <td>18</td>\n",
              "    </tr>\n",
              "  </tbody>\n",
              "</table>\n",
              "</div>"
            ],
            "text/plain": [
              "            Amy  Bernadette  Howard  Leonard  Penny  Raj  Sheldon\n",
              "Amy           8           6       2        2      4    2        0\n",
              "Bernadette    3          10       6        1      1    3        0\n",
              "Howard        3           5      10        2      1    3        0\n",
              "Leonard       2           3       6        3      7    3        0\n",
              "Penny         0           3       2        5     13    1        0\n",
              "Raj           4           1       9        4      1    4        1\n",
              "Sheldon       1           0       2        2      1    0       18"
            ]
          },
          "metadata": {
            "tags": []
          },
          "execution_count": 69
        }
      ]
    },
    {
      "cell_type": "code",
      "metadata": {
        "id": "L879jvUNntGD",
        "colab_type": "code",
        "outputId": "e61e5d4f-be98-44f2-9dac-461203c63135",
        "colab": {
          "base_uri": "https://localhost:8080/",
          "height": 68
        }
      },
      "source": [
        "# The metrics of performance\n",
        "TP = np.diag(confusion_matrix) \n",
        "FP = confusion_matrix.sum(axis=1) - np.diag(confusion_matrix) \n",
        "FN = confusion_matrix.sum(axis=0) - np.diag(confusion_matrix)\n",
        "\n",
        "\n",
        "PRE = (TP)/(TP+FP)\n",
        "print('precision:', np.mean(PRE))\n",
        "REC = (TP)/(TP+FN)\n",
        "print('recall:', np.mean(REC))\n",
        "F1 = 2*np.mean(REC)*np.mean(PRE)/(np.mean(REC)+np.mean(PRE))\n",
        "print('F1:', np.mean(F1))\n"
      ],
      "execution_count": 0,
      "outputs": [
        {
          "output_type": "stream",
          "text": [
            "precision: 0.39285714285714285\n",
            "recall: 0.40398776864942276\n",
            "F1: 0.3983447173949531\n"
          ],
          "name": "stdout"
        }
      ]
    },
    {
      "cell_type": "markdown",
      "metadata": {
        "id": "jHuUuEcqMKiJ",
        "colab_type": "text"
      },
      "source": [
        ""
      ]
    },
    {
      "cell_type": "code",
      "metadata": {
        "id": "E5XQczTdJOFo",
        "colab_type": "code",
        "colab": {}
      },
      "source": [
        "# This is for the error analysis, just briefly describe how sentences that were not classified correclty look like \n",
        "mistakes = []\n",
        "for i in range(len(y_test)):\n",
        "  if y_test[i] != y_pred[i]:\n",
        "    mistakes.append(i)"
      ],
      "execution_count": 0,
      "outputs": []
    },
    {
      "cell_type": "code",
      "metadata": {
        "id": "IiKQ-5f5JySd",
        "colab_type": "code",
        "colab": {}
      },
      "source": [
        "a = pd.read_csv('gdrive/My Drive/test_script3.csv')"
      ],
      "execution_count": 0,
      "outputs": []
    },
    {
      "cell_type": "code",
      "metadata": {
        "id": "LYUj-UfWJscn",
        "colab_type": "code",
        "colab": {}
      },
      "source": [
        "# Check the sentences that were missflassied \n",
        "for i in range(len(mistakes)):\n",
        "  idx = mistakes[i]\n",
        "  print ('--- Text ---')\n",
        "  print(train_data['lines'][idx]) \n",
        "  print('--- Predicted ---')\n",
        "  print(y_pred[idx])\n",
        "  print('--- Actual ---')\n",
        "  print(y_test[idx])\n",
        "  print('---  ---')"
      ],
      "execution_count": 0,
      "outputs": []
    },
    {
      "cell_type": "code",
      "metadata": {
        "id": "JUcPIlhiJshn",
        "colab_type": "code",
        "colab": {}
      },
      "source": [
        ""
      ],
      "execution_count": 0,
      "outputs": []
    },
    {
      "cell_type": "code",
      "metadata": {
        "id": "o6Pa7LEwiq3X",
        "colab_type": "code",
        "colab": {}
      },
      "source": [
        ""
      ],
      "execution_count": 0,
      "outputs": []
    }
  ]
}