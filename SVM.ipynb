{
 "cells": [
  {
   "cell_type": "code",
   "execution_count": 29,
   "metadata": {},
   "outputs": [],
   "source": [
    "from sklearn.feature_extraction.text import CountVectorizer\n",
    "from sklearn.feature_extraction.text import TfidfTransformer\n",
    "import pandas as pd\n",
    "import numpy as np\n",
    "from sklearn import preprocessing"
   ]
  },
  {
   "cell_type": "code",
   "execution_count": 11,
   "metadata": {},
   "outputs": [],
   "source": [
    "# Import the set (per episode) and delete any possible nan row \n",
    "train_data=pd.read_csv('train_script3.csv')\n",
    "train_data= train_data.dropna().reset_index()\n",
    "\n",
    "test_data = pd.read_csv('test_script3.csv')\n",
    "test_data= test_data.dropna().reset_index()"
   ]
  },
  {
   "cell_type": "code",
   "execution_count": 12,
   "metadata": {},
   "outputs": [
    {
     "name": "stdout",
     "output_type": "stream",
     "text": [
      "['Amy'] is encoded as 0\n",
      "['Bernadette'] is encoded as 1\n",
      "['Howard'] is encoded as 2\n",
      "['Leonard'] is encoded as 3\n",
      "['Penny'] is encoded as 4\n",
      "['Raj'] is encoded as 5\n",
      "['Sheldon'] is encoded as 6\n"
     ]
    }
   ],
   "source": [
    "# Encode the labels of the training set\n",
    "le = preprocessing.LabelEncoder()\n",
    "\n",
    "le.fit(train_data['character'])\n",
    "le.classes_\n",
    "labels_train = le.transform(train_data['character']) \n",
    "\n",
    "\n",
    "zero = list(le.inverse_transform([0]))\n",
    "one = list(le.inverse_transform([1]))\n",
    "two = list(le.inverse_transform([2]))\n",
    "three = list(le.inverse_transform([3]))\n",
    "four = list(le.inverse_transform([4]))\n",
    "five = list(le.inverse_transform([5]))\n",
    "six = list(le.inverse_transform([6]))\n",
    "\n",
    "print(zero, 'is encoded as 0')\n",
    "print(one, 'is encoded as 1')\n",
    "print(two, 'is encoded as 2')\n",
    "print(three, 'is encoded as 3')\n",
    "print(four, 'is encoded as 4')\n",
    "print(five, 'is encoded as 5')\n",
    "print(six, 'is encoded as 6')"
   ]
  },
  {
   "cell_type": "code",
   "execution_count": 13,
   "metadata": {},
   "outputs": [
    {
     "name": "stdout",
     "output_type": "stream",
     "text": [
      "['Amy'] is encoded as 0\n",
      "['Bernadette'] is encoded as 1\n",
      "['Howard'] is encoded as 2\n",
      "['Leonard'] is encoded as 3\n",
      "['Penny'] is encoded as 4\n",
      "['Raj'] is encoded as 5\n",
      "['Sheldon'] is encoded as 6\n"
     ]
    }
   ],
   "source": [
    "# Encode the labels of the testing set\n",
    "le.fit(test_data['character'])\n",
    "le.classes_\n",
    "labels_test = le.transform(test_data['character']) \n",
    "\n",
    "\n",
    "zero = list(le.inverse_transform([0]))\n",
    "one = list(le.inverse_transform([1]))\n",
    "two = list(le.inverse_transform([2]))\n",
    "three = list(le.inverse_transform([3]))\n",
    "four = list(le.inverse_transform([4]))\n",
    "five = list(le.inverse_transform([5]))\n",
    "six = list(le.inverse_transform([6]))\n",
    "\n",
    "print(zero, 'is encoded as 0')\n",
    "print(one, 'is encoded as 1')\n",
    "print(two, 'is encoded as 2')\n",
    "print(three, 'is encoded as 3')\n",
    "print(four, 'is encoded as 4')\n",
    "print(five, 'is encoded as 5')\n",
    "print(six, 'is encoded as 6')"
   ]
  },
  {
   "cell_type": "code",
   "execution_count": 14,
   "metadata": {},
   "outputs": [],
   "source": [
    "# Replace the label with the encoded ones\n",
    "train_data['character'] = labels_train\n",
    "test_data['character'] = labels_test"
   ]
  },
  {
   "cell_type": "code",
   "execution_count": 15,
   "metadata": {},
   "outputs": [
    {
     "data": {
      "text/plain": [
       "1264"
      ]
     },
     "execution_count": 15,
     "metadata": {},
     "output_type": "execute_result"
    }
   ],
   "source": [
    "# Check the length of the training set\n",
    "len(train_data)"
   ]
  },
  {
   "cell_type": "code",
   "execution_count": 16,
   "metadata": {},
   "outputs": [],
   "source": [
    "# Gather all data together \n",
    "\n",
    "data = [train_data, test_data]\n",
    "all_data = pd.concat(data).reset_index()\n",
    "all_data = all_data[['lines', 'character']]"
   ]
  },
  {
   "cell_type": "code",
   "execution_count": 18,
   "metadata": {},
   "outputs": [],
   "source": [
    "count_vect = CountVectorizer()\n",
    "\n",
    "# Get the count vectors \n",
    "X_train_counts = count_vect.fit_transform(all_data.lines)\n",
    "tfidf_transformer = TfidfTransformer()\n",
    "\n",
    "# Using the count vectors get the tfidf features \n",
    "X_train_tfidf = tfidf_transformer.fit_transform(X_train_counts)\n",
    "X_train_tfidf.shape"
   ]
  },
  {
   "cell_type": "code",
   "execution_count": 22,
   "metadata": {},
   "outputs": [],
   "source": [
    "# Run the SVM model with 10 fold stratified cross validation\n",
    "\n",
    "from sklearn import svm \n",
    "from sklearn.svm import SVC\n",
    "\n",
    "from sklearn.model_selection import StratifiedKFold, KFold\n",
    "import pycm\n",
    "from pycm import *\n",
    "\n",
    "skf = StratifiedKFold(n_splits=10)\n",
    "X = X_train_tfidf\n",
    "y = all_data.character\n",
    "\n",
    "\n",
    "all_cm = []\n",
    "\n",
    "for train_index, test_index in skf.split(X, y):\n",
    "    X_train, X_test = X[train_index], X[test_index]\n",
    "    y_train, y_test = y[train_index], y[test_index]\n",
    "    model = svm.SVC(gamma= 'scale')\n",
    "    model.fit(X_train, y_train)\n",
    "    y_pred = model.predict(X_test)\n",
    "    y_pred = y_pred.tolist()\n",
    "    y_test = y_test.tolist()\n",
    "    cm = ConfusionMatrix(y_pred, y_test)\n",
    "    all_cm.append(cm)\n",
    "    \n"
   ]
  },
  {
   "cell_type": "code",
   "execution_count": 23,
   "metadata": {},
   "outputs": [
    {
     "data": {
      "text/html": [
       "<div>\n",
       "<style scoped>\n",
       "    .dataframe tbody tr th:only-of-type {\n",
       "        vertical-align: middle;\n",
       "    }\n",
       "\n",
       "    .dataframe tbody tr th {\n",
       "        vertical-align: top;\n",
       "    }\n",
       "\n",
       "    .dataframe thead th {\n",
       "        text-align: right;\n",
       "    }\n",
       "</style>\n",
       "<table border=\"1\" class=\"dataframe\">\n",
       "  <thead>\n",
       "    <tr style=\"text-align: right;\">\n",
       "      <th></th>\n",
       "      <th>Amy</th>\n",
       "      <th>Bernadette</th>\n",
       "      <th>Howard</th>\n",
       "      <th>Leonard</th>\n",
       "      <th>Penny</th>\n",
       "      <th>Raj</th>\n",
       "      <th>Sheldon</th>\n",
       "    </tr>\n",
       "  </thead>\n",
       "  <tbody>\n",
       "    <tr>\n",
       "      <th>Amy</th>\n",
       "      <td>38</td>\n",
       "      <td>1</td>\n",
       "      <td>23</td>\n",
       "      <td>25</td>\n",
       "      <td>7</td>\n",
       "      <td>46</td>\n",
       "      <td>11</td>\n",
       "    </tr>\n",
       "    <tr>\n",
       "      <th>Bernadette</th>\n",
       "      <td>3</td>\n",
       "      <td>50</td>\n",
       "      <td>36</td>\n",
       "      <td>12</td>\n",
       "      <td>10</td>\n",
       "      <td>47</td>\n",
       "      <td>0</td>\n",
       "    </tr>\n",
       "    <tr>\n",
       "      <th>Howard</th>\n",
       "      <td>2</td>\n",
       "      <td>1</td>\n",
       "      <td>133</td>\n",
       "      <td>21</td>\n",
       "      <td>4</td>\n",
       "      <td>62</td>\n",
       "      <td>2</td>\n",
       "    </tr>\n",
       "    <tr>\n",
       "      <th>Leonard</th>\n",
       "      <td>1</td>\n",
       "      <td>3</td>\n",
       "      <td>28</td>\n",
       "      <td>158</td>\n",
       "      <td>16</td>\n",
       "      <td>15</td>\n",
       "      <td>3</td>\n",
       "    </tr>\n",
       "    <tr>\n",
       "      <th>Penny</th>\n",
       "      <td>0</td>\n",
       "      <td>2</td>\n",
       "      <td>20</td>\n",
       "      <td>15</td>\n",
       "      <td>170</td>\n",
       "      <td>17</td>\n",
       "      <td>0</td>\n",
       "    </tr>\n",
       "    <tr>\n",
       "      <th>Raj</th>\n",
       "      <td>0</td>\n",
       "      <td>0</td>\n",
       "      <td>27</td>\n",
       "      <td>19</td>\n",
       "      <td>2</td>\n",
       "      <td>173</td>\n",
       "      <td>3</td>\n",
       "    </tr>\n",
       "    <tr>\n",
       "      <th>Sheldon</th>\n",
       "      <td>1</td>\n",
       "      <td>0</td>\n",
       "      <td>5</td>\n",
       "      <td>4</td>\n",
       "      <td>0</td>\n",
       "      <td>10</td>\n",
       "      <td>206</td>\n",
       "    </tr>\n",
       "  </tbody>\n",
       "</table>\n",
       "</div>"
      ],
      "text/plain": [
       "            Amy  Bernadette  Howard  Leonard  Penny  Raj  Sheldon\n",
       "Amy          38           1      23       25      7   46       11\n",
       "Bernadette    3          50      36       12     10   47        0\n",
       "Howard        2           1     133       21      4   62        2\n",
       "Leonard       1           3      28      158     16   15        3\n",
       "Penny         0           2      20       15    170   17        0\n",
       "Raj           0           0      27       19      2  173        3\n",
       "Sheldon       1           0       5        4      0   10      206"
      ]
     },
     "execution_count": 23,
     "metadata": {},
     "output_type": "execute_result"
    }
   ],
   "source": [
    "# Obtain the confusion matrix for the different 10 holds together \n",
    "confusion_matrix = pd.DataFrame()\n",
    "for i in range(len(all_cm)):\n",
    "      confusion_matrix= confusion_matrix.append(pd.DataFrame(all_cm[i].table))\n",
    "        \n",
    "confusion_matrix = confusion_matrix.groupby(confusion_matrix.index).sum()\n",
    "confusion_matrix.columns=['Amy', 'Bernadette', 'Howard', 'Leonard', 'Penny', 'Raj','Sheldon']\n",
    "confusion_matrix.index = ['Amy', 'Bernadette', 'Howard', 'Leonard', 'Penny', 'Raj','Sheldon']\n",
    "confusion_matrix\n",
    "\n"
   ]
  },
  {
   "cell_type": "code",
   "execution_count": 27,
   "metadata": {},
   "outputs": [
    {
     "name": "stdout",
     "output_type": "stream",
     "text": [
      "precision: 0.6153334291555171\n",
      "recall: 0.7184536445057276\n",
      "F1: 0.6629072263377923\n"
     ]
    }
   ],
   "source": [
    "# The performance metrics\n",
    "\n",
    "TP = np.diag(confusion_matrix) \n",
    "FP = confusion_matrix.sum(axis=1) - np.diag(confusion_matrix) \n",
    "FN = confusion_matrix.sum(axis=0) - np.diag(confusion_matrix)\n",
    "\n",
    "\n",
    "PRE = (TP)/(TP+FP)\n",
    "print('precision:', np.mean(PRE))\n",
    "REC = (TP)/(TP+FN)\n",
    "print('recall:', np.mean(REC))\n",
    "F1 = 2*np.mean(REC)*np.mean(PRE)/(np.mean(REC)+np.mean(PRE))\n",
    "print('F1:', np.mean(F1))"
   ]
  },
  {
   "cell_type": "code",
   "execution_count": 26,
   "metadata": {},
   "outputs": [],
   "source": []
  },
  {
   "cell_type": "code",
   "execution_count": null,
   "metadata": {},
   "outputs": [],
   "source": []
  }
 ],
 "metadata": {
  "kernelspec": {
   "display_name": "Python 3",
   "language": "python",
   "name": "python3"
  },
  "language_info": {
   "codemirror_mode": {
    "name": "ipython",
    "version": 3
   },
   "file_extension": ".py",
   "mimetype": "text/x-python",
   "name": "python",
   "nbconvert_exporter": "python",
   "pygments_lexer": "ipython3",
   "version": "3.7.4"
  }
 },
 "nbformat": 4,
 "nbformat_minor": 4
}
